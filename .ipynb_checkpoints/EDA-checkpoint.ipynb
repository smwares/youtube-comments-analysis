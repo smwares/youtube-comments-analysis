{
 "cells": [
  {
   "cell_type": "code",
   "execution_count": 1,
   "id": "9a98138c-b4f3-427a-aa94-176e60656d78",
   "metadata": {},
   "outputs": [],
   "source": [
    "import os\n",
    "import numpy as np\n",
    "import pandas as pd\n",
    "import seaborn as sns\n",
    "import pprint\n",
    "import json\n",
    "from dotenv import load_dotenv\n",
    "from googleapiclient.discovery import build"
   ]
  },
  {
   "cell_type": "code",
   "execution_count": 2,
   "id": "fd97b4e1-cc94-40da-b6e5-743b45218ebe",
   "metadata": {
    "tags": []
   },
   "outputs": [],
   "source": [
    "# get the API key from the .env file\n",
    "load_dotenv()\n",
    "api_key = os.getenv('API_KEY')"
   ]
  },
  {
   "cell_type": "code",
   "execution_count": 3,
   "id": "934449ef-b3c1-4210-b30d-9f746e31320b",
   "metadata": {
    "tags": []
   },
   "outputs": [],
   "source": [
    "# initiate the YouTube client\n",
    "youtube = build(serviceName='youtube', version='v3', developerKey=api_key)"
   ]
  },
  {
   "cell_type": "code",
   "execution_count": 4,
   "id": "e8999d21-8228-4838-8e88-6e5e316f7295",
   "metadata": {},
   "outputs": [
    {
     "name": "stdout",
     "output_type": "stream",
     "text": [
      "{'etag': 'ABk4UgNOip6GIEr5l3HG59X-d8c',\n",
      " 'items': [{'etag': 'bHOcARzLC4jvXXJSILZfI27FAhQ',\n",
      "            'id': 'UgwVZkMdTSddJGmgdMN4AaABAg',\n",
      "            'kind': 'youtube#commentThread',\n",
      "            'snippet': {'canReply': True,\n",
      "                        'channelId': 'UCaizTs-t-jXjj8H0-S3ATYA',\n",
      "                        'isPublic': True,\n",
      "                        'topLevelComment': {'etag': 'yYF9xZBR63IzjvYy_iVHNuF2pmE',\n",
      "                                            'id': 'UgwVZkMdTSddJGmgdMN4AaABAg',\n",
      "                                            'kind': 'youtube#comment',\n",
      "                                            'snippet': {'authorChannelId': {'value': 'UCDu21PCL5haaG2KtsYvJxRA'},\n",
      "                                                        'authorChannelUrl': 'http://www.youtube.com/@useraaaaaaaa1',\n",
      "                                                        'authorDisplayName': '@useraaaaaaaa1',\n",
      "                                                        'authorProfileImageUrl': 'https://yt3.ggpht.com/ytc/AIdro_mPaIlbeWb3a6_cO9yOCv8K5uKkcaN11RNZR-AfD-PLVcHiU-e5Sk7dXiKQ7IDShG80JQ=s48-c-k-c0x00ffffff-no-rj',\n",
      "                                                        'canRate': True,\n",
      "                                                        'channelId': 'UCaizTs-t-jXjj8H0-S3ATYA',\n",
      "                                                        'likeCount': 0,\n",
      "                                                        'publishedAt': '2024-04-18T14:59:26Z',\n",
      "                                                        'textDisplay': 'Super '\n",
      "                                                                       'useful, '\n",
      "                                                                       'thanks '\n",
      "                                                                       'for '\n",
      "                                                                       'sharing!',\n",
      "                                                        'textOriginal': 'Super '\n",
      "                                                                        'useful, '\n",
      "                                                                        'thanks '\n",
      "                                                                        'for '\n",
      "                                                                        'sharing!',\n",
      "                                                        'updatedAt': '2024-04-18T14:59:26Z',\n",
      "                                                        'videoId': 'qIq6TU3lIDg',\n",
      "                                                        'viewerRating': 'none'}},\n",
      "                        'totalReplyCount': 1,\n",
      "                        'videoId': 'qIq6TU3lIDg'}}],\n",
      " 'kind': 'youtube#commentThreadListResponse',\n",
      " 'pageInfo': {'resultsPerPage': 20, 'totalResults': 1}}\n"
     ]
    }
   ],
   "source": [
    "request = youtube.commentThreads().list(part='snippet',\n",
    "                                  videoId='qIq6TU3lIDg',\n",
    "                                  textFormat='plainText')\n",
    "\n",
    "response = request.execute()\n",
    "pprint.pprint(response)"
   ]
  },
  {
   "cell_type": "code",
   "execution_count": 5,
   "id": "3b07eb93-e05c-4909-904c-823a714c7d7e",
   "metadata": {
    "tags": []
   },
   "outputs": [
    {
     "data": {
      "text/plain": [
       "dict_keys(['kind', 'etag', 'pageInfo', 'items'])"
      ]
     },
     "execution_count": 5,
     "metadata": {},
     "output_type": "execute_result"
    }
   ],
   "source": [
    "response.keys()"
   ]
  },
  {
   "cell_type": "code",
   "execution_count": 6,
   "id": "dbeec150-efa6-4661-90b7-14546dd9a3a0",
   "metadata": {
    "tags": []
   },
   "outputs": [
    {
     "data": {
      "text/plain": [
       "[{'kind': 'youtube#commentThread',\n",
       "  'etag': 'bHOcARzLC4jvXXJSILZfI27FAhQ',\n",
       "  'id': 'UgwVZkMdTSddJGmgdMN4AaABAg',\n",
       "  'snippet': {'channelId': 'UCaizTs-t-jXjj8H0-S3ATYA',\n",
       "   'videoId': 'qIq6TU3lIDg',\n",
       "   'topLevelComment': {'kind': 'youtube#comment',\n",
       "    'etag': 'yYF9xZBR63IzjvYy_iVHNuF2pmE',\n",
       "    'id': 'UgwVZkMdTSddJGmgdMN4AaABAg',\n",
       "    'snippet': {'channelId': 'UCaizTs-t-jXjj8H0-S3ATYA',\n",
       "     'videoId': 'qIq6TU3lIDg',\n",
       "     'textDisplay': 'Super useful, thanks for sharing!',\n",
       "     'textOriginal': 'Super useful, thanks for sharing!',\n",
       "     'authorDisplayName': '@useraaaaaaaa1',\n",
       "     'authorProfileImageUrl': 'https://yt3.ggpht.com/ytc/AIdro_mPaIlbeWb3a6_cO9yOCv8K5uKkcaN11RNZR-AfD-PLVcHiU-e5Sk7dXiKQ7IDShG80JQ=s48-c-k-c0x00ffffff-no-rj',\n",
       "     'authorChannelUrl': 'http://www.youtube.com/@useraaaaaaaa1',\n",
       "     'authorChannelId': {'value': 'UCDu21PCL5haaG2KtsYvJxRA'},\n",
       "     'canRate': True,\n",
       "     'viewerRating': 'none',\n",
       "     'likeCount': 0,\n",
       "     'publishedAt': '2024-04-18T14:59:26Z',\n",
       "     'updatedAt': '2024-04-18T14:59:26Z'}},\n",
       "   'canReply': True,\n",
       "   'totalReplyCount': 1,\n",
       "   'isPublic': True}}]"
      ]
     },
     "execution_count": 6,
     "metadata": {},
     "output_type": "execute_result"
    }
   ],
   "source": [
    "response['items']"
   ]
  },
  {
   "cell_type": "code",
   "execution_count": 30,
   "id": "87eefbe3-66fd-4c37-aeea-f93767ac64ef",
   "metadata": {
    "tags": []
   },
   "outputs": [],
   "source": [
    "test = youtube.comments().list(part='snippet', parentId='UgwVZkMdTSddJGmgdMN4AaABAg', textFormat='plainText').execute()"
   ]
  },
  {
   "cell_type": "code",
   "execution_count": 32,
   "id": "4a49fa41-9c81-4caa-8e8a-e96be9089ef2",
   "metadata": {
    "tags": []
   },
   "outputs": [
    {
     "data": {
      "text/plain": [
       "{'kind': 'youtube#commentListResponse',\n",
       " 'etag': 'Lfnf4Oq9GzIV9SgFnvHG2ZBKNV0',\n",
       " 'pageInfo': {'resultsPerPage': 20},\n",
       " 'items': [{'kind': 'youtube#comment',\n",
       "   'etag': 'RTY94ilr7xAXRkM6sqTMPyP5DBg',\n",
       "   'id': 'UgwVZkMdTSddJGmgdMN4AaABAg.A2NZ84B7DJOA2Npgn5JOtZ',\n",
       "   'snippet': {'channelId': 'UCaizTs-t-jXjj8H0-S3ATYA',\n",
       "    'textDisplay': 'Thank you',\n",
       "    'textOriginal': 'Thank you',\n",
       "    'parentId': 'UgwVZkMdTSddJGmgdMN4AaABAg',\n",
       "    'authorDisplayName': '@analyticswithadam',\n",
       "    'authorProfileImageUrl': 'https://yt3.ggpht.com/La5UQrwbtvM0aYMi95LUJZRX9maQUJeYm49VffEU3xSYxr-sEFLdOUqQI71UPNHBb2Ye7xNF7g=s48-c-k-c0x00ffffff-no-rj',\n",
       "    'authorChannelUrl': 'http://www.youtube.com/@analyticswithadam',\n",
       "    'authorChannelId': {'value': 'UCaizTs-t-jXjj8H0-S3ATYA'},\n",
       "    'canRate': True,\n",
       "    'viewerRating': 'none',\n",
       "    'likeCount': 0,\n",
       "    'publishedAt': '2024-04-18T17:32:52Z',\n",
       "    'updatedAt': '2024-04-18T17:32:52Z'}}]}"
      ]
     },
     "execution_count": 32,
     "metadata": {},
     "output_type": "execute_result"
    }
   ],
   "source": [
    "test"
   ]
  },
  {
   "cell_type": "code",
   "execution_count": null,
   "id": "1e1f6be1-59af-46a5-990f-767a04fcf52d",
   "metadata": {},
   "outputs": [],
   "source": []
  }
 ],
 "metadata": {
  "kernelspec": {
   "display_name": "lhl_env",
   "language": "python",
   "name": "lhl_env"
  },
  "language_info": {
   "codemirror_mode": {
    "name": "ipython",
    "version": 3
   },
   "file_extension": ".py",
   "mimetype": "text/x-python",
   "name": "python",
   "nbconvert_exporter": "python",
   "pygments_lexer": "ipython3",
   "version": "3.9.18"
  }
 },
 "nbformat": 4,
 "nbformat_minor": 5
}
