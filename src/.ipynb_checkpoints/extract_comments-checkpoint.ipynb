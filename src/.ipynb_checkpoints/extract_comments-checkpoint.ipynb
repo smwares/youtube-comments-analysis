{
 "cells": [
  {
   "cell_type": "code",
   "execution_count": 1,
   "id": "9a98138c-b4f3-427a-aa94-176e60656d78",
   "metadata": {},
   "outputs": [],
   "source": [
    "import os\n",
    "import numpy as np\n",
    "import pandas as pd\n",
    "from dotenv import load_dotenv\n",
    "from googleapiclient.discovery import build"
   ]
  },
  {
   "cell_type": "code",
   "execution_count": 2,
   "id": "fd97b4e1-cc94-40da-b6e5-743b45218ebe",
   "metadata": {
    "tags": []
   },
   "outputs": [],
   "source": [
    "# get the API key from the .env file\n",
    "load_dotenv()\n",
    "api_key = os.getenv('API_KEY')"
   ]
  },
  {
   "cell_type": "code",
   "execution_count": 3,
   "id": "934449ef-b3c1-4210-b30d-9f746e31320b",
   "metadata": {
    "tags": []
   },
   "outputs": [],
   "source": [
    "# initiate the YouTube client\n",
    "youtube = build(serviceName='youtube', version='v3', developerKey=api_key)"
   ]
  },
  {
   "cell_type": "code",
   "execution_count": 4,
   "id": "68fb7e98-8913-479b-b3ad-4d3556d99917",
   "metadata": {
    "tags": []
   },
   "outputs": [],
   "source": [
    "# insert the video ID from desired video to extract comments from (this would be the text that comes after 'https://www.youtube.com/watch?v=')\n",
    "videoId = 'x3SZsSWqS3g'"
   ]
  },
  {
   "cell_type": "code",
   "execution_count": 5,
   "id": "e8999d21-8228-4838-8e88-6e5e316f7295",
   "metadata": {
    "tags": []
   },
   "outputs": [],
   "source": [
    "# create a request to get the parent comments, then save the response\n",
    "request = youtube.commentThreads().list(part='snippet',\n",
    "                                  videoId=videoId,\n",
    "                                  textFormat='plainText')\n",
    "\n",
    "response = request.execute()"
   ]
  },
  {
   "cell_type": "code",
   "execution_count": 6,
   "id": "e0a1039f-5974-4163-8911-ebebd5964c79",
   "metadata": {
    "tags": []
   },
   "outputs": [],
   "source": [
    "# function to get specific details from all the parent comments\n",
    "def get_comments(response):\n",
    "    comments = []\n",
    "    if response['kind'] == 'youtube#commentThreadListResponse':\n",
    "        for item in response['items']:\n",
    "            comment_snippet = item['snippet']['topLevelComment']['snippet']\n",
    "            comment_details = {'comment': comment_snippet['textOriginal'],\n",
    "                               'comment_id': item['snippet']['topLevelComment']['id'],\n",
    "                               'parent_comment': None,\n",
    "                               'user': comment_snippet['authorDisplayName'],\n",
    "                               'user_avatar': comment_snippet['authorProfileImageUrl'],\n",
    "                               'user_page': comment_snippet['authorChannelUrl'],\n",
    "                               'comment_time': comment_snippet['publishedAt'],\n",
    "                               'likes': comment_snippet['likeCount'],\n",
    "                               'replies': item['snippet']['totalReplyCount']}\n",
    "\n",
    "            comments.append(comment_details)\n",
    "            \n",
    "    elif response['kind'] == 'youtube#commentListResponse':\n",
    "        for item in response['items']:\n",
    "            comment_snippet = item['snippet']\n",
    "            comment_details = {'comment': comment_snippet['textOriginal'],\n",
    "                               'comment_id': item['id'],\n",
    "                               'parent_comment': comment_snippet['parentId'],\n",
    "                               'user': comment_snippet['authorDisplayName'],\n",
    "                               'user_avatar': comment_snippet['authorProfileImageUrl'],\n",
    "                               'user_page': comment_snippet['authorChannelUrl'],\n",
    "                               'comment_time': comment_snippet['publishedAt'],\n",
    "                               'likes': comment_snippet['likeCount'],\n",
    "                               'replies': None}\n",
    "\n",
    "            comments.append(comment_details)\n",
    "            \n",
    "    return comments"
   ]
  },
  {
   "cell_type": "code",
   "execution_count": 7,
   "id": "9ad78abf-c2a3-4415-9fdc-6d72df888c05",
   "metadata": {},
   "outputs": [],
   "source": [
    "# get the first page of comments if there are more than 20 parent comments\n",
    "comments = []\n",
    "\n",
    "comments += get_comments(response)\n",
    "\n",
    "# loop through all the comments, required for situations where there are more than 20 comments as the first call of the commentThreads() function only fetches the first 20 comments\n",
    "while 'nextPageToken' in response.keys():\n",
    "    nextPageToken = response['nextPageToken']\n",
    "    request = youtube.commentThreads().list(part='snippet', videoId=videoId, pageToken=nextPageToken, textFormat='plainText')\n",
    "    response = request.execute()\n",
    "    \n",
    "    comments += get_comments(response)"
   ]
  },
  {
   "cell_type": "code",
   "execution_count": 8,
   "id": "d2cf00e7-6344-435c-b6b0-d2e09b6b2404",
   "metadata": {
    "tags": []
   },
   "outputs": [],
   "source": [
    "# get the reply comments to the parent comment threads where there are replies\n",
    "replies = []\n",
    "\n",
    "for comment in comments:\n",
    "    if comment['replies'] > 0:\n",
    "        request = youtube.comments().list(part='snippet', parentId=comment['comment_id'], textFormat='plainText')\n",
    "        response = request.execute()\n",
    "        \n",
    "        replies += get_comments(response)\n",
    "        \n",
    "        # similar loop to get replies for comment threads where there are more than 20 replies  \n",
    "        while 'nextPageToken' in response.keys():\n",
    "            nextPageToken = response['nextPageToken']\n",
    "            request = youtube.comments().list(part='snippet', parentId=comment['comment_id'], pageToken=nextPageToken, textFormat='plainText')\n",
    "            response = request.execute()\n",
    "\n",
    "            replies += get_comments(response)"
   ]
  },
  {
   "cell_type": "code",
   "execution_count": 9,
   "id": "a0462e15-c136-4d3c-908d-81a555d93a77",
   "metadata": {
    "tags": []
   },
   "outputs": [],
   "source": [
    "# combine comments and replies into one list\n",
    "all_comments = comments + replies"
   ]
  },
  {
   "cell_type": "code",
   "execution_count": 10,
   "id": "0eb629ad-f46f-4d3f-be6d-db3d1465b2cd",
   "metadata": {
    "tags": []
   },
   "outputs": [],
   "source": [
    "# create a DataFrame out of the list of comments\n",
    "all_comments_df = pd.DataFrame(all_comments)"
   ]
  },
  {
   "cell_type": "code",
   "execution_count": 11,
   "id": "e2f39a8f-aabf-4b08-948d-a6f38eaaa534",
   "metadata": {
    "tags": []
   },
   "outputs": [],
   "source": [
    "# convert the comment_time column into a datetime format\n",
    "all_comments_df['comment_time'] = pd.to_datetime(all_comments_df['comment_time'])"
   ]
  },
  {
   "cell_type": "code",
   "execution_count": 29,
   "id": "ed8f62ff-6869-4883-90c4-507df0c3fec4",
   "metadata": {
    "tags": []
   },
   "outputs": [],
   "source": [
    "# fill up any NaN values with  0\n",
    "all_comments_df['replies'] = all_comments_df['replies'].fillna(value=0)"
   ]
  },
  {
   "cell_type": "code",
   "execution_count": 13,
   "id": "c560a932-2299-4254-8150-cb41f9533a4c",
   "metadata": {
    "tags": []
   },
   "outputs": [],
   "source": [
    "# convert certain columns to save space and perform quicker\n",
    "all_comments_df = all_comments_df.astype({'likes': 'int32', 'replies': 'int32'})"
   ]
  },
  {
   "cell_type": "code",
   "execution_count": 14,
   "id": "ff615a6e-1f8d-4a58-883b-22beae6be817",
   "metadata": {
    "tags": []
   },
   "outputs": [],
   "source": [
    "# save the comments into a csv file\n",
    "all_comments_df.to_csv('../data/comments.csv', index=None)"
   ]
  }
 ],
 "metadata": {
  "kernelspec": {
   "display_name": "lhl_env",
   "language": "python",
   "name": "lhl_env"
  },
  "language_info": {
   "codemirror_mode": {
    "name": "ipython",
    "version": 3
   },
   "file_extension": ".py",
   "mimetype": "text/x-python",
   "name": "python",
   "nbconvert_exporter": "python",
   "pygments_lexer": "ipython3",
   "version": "3.9.18"
  }
 },
 "nbformat": 4,
 "nbformat_minor": 5
}
