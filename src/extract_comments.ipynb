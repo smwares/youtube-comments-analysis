{
 "cells": [
  {
   "cell_type": "code",
   "execution_count": 1,
   "id": "9a98138c-b4f3-427a-aa94-176e60656d78",
   "metadata": {},
   "outputs": [],
   "source": [
    "import os\n",
    "import numpy as np\n",
    "import pandas as pd\n",
    "from dotenv import load_dotenv\n",
    "from googleapiclient.discovery import build"
   ]
  },
  {
   "cell_type": "code",
   "execution_count": 2,
   "id": "fd97b4e1-cc94-40da-b6e5-743b45218ebe",
   "metadata": {
    "tags": []
   },
   "outputs": [],
   "source": [
    "# get the API key from the .env file\n",
    "load_dotenv()\n",
    "api_key = os.getenv('API_KEY')"
   ]
  },
  {
   "cell_type": "code",
   "execution_count": 3,
   "id": "e0a1039f-5974-4163-8911-ebebd5964c79",
   "metadata": {
    "tags": []
   },
   "outputs": [],
   "source": [
    "# function to take a page of comments from the response (typically 20 max) and return a list of comments or replies as a list of dictionaries with relevant key-value pairs\n",
    "def get_comments(response):\n",
    "    comments = []\n",
    "    if response['kind'] == 'youtube#commentThreadListResponse':\n",
    "        for item in response['items']:\n",
    "            comment_snippet = item['snippet']['topLevelComment']['snippet']\n",
    "            comment_details = {'comment': comment_snippet['textOriginal'],\n",
    "                               'comment_id': item['snippet']['topLevelComment']['id'],\n",
    "                               'parent_comment': None,\n",
    "                               'user': comment_snippet['authorDisplayName'],\n",
    "                               'user_avatar': comment_snippet['authorProfileImageUrl'],\n",
    "                               'user_page': comment_snippet['authorChannelUrl'],\n",
    "                               'comment_time': comment_snippet['publishedAt'],\n",
    "                               'likes': comment_snippet['likeCount'],\n",
    "                               'replies': item['snippet']['totalReplyCount']}\n",
    "\n",
    "            comments.append(comment_details)\n",
    "            \n",
    "    elif response['kind'] == 'youtube#commentListResponse':\n",
    "        for item in response['items']:\n",
    "            comment_snippet = item['snippet']\n",
    "            comment_details = {'comment': comment_snippet['textOriginal'],\n",
    "                               'comment_id': item['id'],\n",
    "                               'parent_comment': comment_snippet['parentId'],\n",
    "                               'user': comment_snippet['authorDisplayName'],\n",
    "                               'user_avatar': comment_snippet['authorProfileImageUrl'],\n",
    "                               'user_page': comment_snippet['authorChannelUrl'],\n",
    "                               'comment_time': comment_snippet['publishedAt'],\n",
    "                               'likes': comment_snippet['likeCount'],\n",
    "                               'replies': None}\n",
    "\n",
    "            comments.append(comment_details)\n",
    "            \n",
    "    return comments"
   ]
  },
  {
   "cell_type": "code",
   "execution_count": 4,
   "id": "9ad78abf-c2a3-4415-9fdc-6d72df888c05",
   "metadata": {},
   "outputs": [],
   "source": [
    "# function to save all the comment threads from a YouTube video as a DataFrame\n",
    "def comments_to_df(response):\n",
    "    \n",
    "    # get the first page of comments if there are more than 20 parent comments\n",
    "    comments = []\n",
    "\n",
    "    comments += get_comments(response)\n",
    "\n",
    "    # loop through all the comments, required for situations where there are more than 20 comments as the first call of the commentThreads() function only fetches the first 20 comments\n",
    "    while 'nextPageToken' in response.keys():\n",
    "        nextPageToken = response['nextPageToken']\n",
    "        request = youtube.commentThreads().list(part='snippet', videoId=videoId, pageToken=nextPageToken, textFormat='plainText')\n",
    "        response = request.execute()\n",
    "\n",
    "        comments += get_comments(response)\n",
    "        \n",
    "        # due to a potential bug in the YouTube API where the nextPageToken is the same every time...\n",
    "        # a break condition to break out of the while loop had to be implemented...\n",
    "        # otherwise it'll loop forever\n",
    "        if 'nextPageToken' in response.keys():\n",
    "            if nextPageToken == response['nextPageToken']:\n",
    "                break\n",
    "    \n",
    "    # return the comments as a DataFrame\n",
    "    return pd.DataFrame(comments)"
   ]
  },
  {
   "cell_type": "code",
   "execution_count": 5,
   "id": "d2cf00e7-6344-435c-b6b0-d2e09b6b2404",
   "metadata": {
    "tags": []
   },
   "outputs": [],
   "source": [
    "# function to get the all comment replies from a YouTube video as a DataFrame\n",
    "def replies_to_df(comments):\n",
    "   \n",
    "    # get the reply comments to the parent comment threads where there are replies\n",
    "    replies = []\n",
    "\n",
    "    for i, comment in comments_df.iterrows():\n",
    "        if comment['replies'] > 0:\n",
    "            request = youtube.comments().list(part='snippet', parentId=comment['comment_id'], textFormat='plainText')\n",
    "            response = request.execute()\n",
    "\n",
    "            replies += get_comments(response)\n",
    "\n",
    "            # similar loop to get replies for comment threads where there are more than 20 replies  \n",
    "            while 'nextPageToken' in response.keys():\n",
    "                nextPageToken = response['nextPageToken']\n",
    "                request = youtube.comments().list(part='snippet', parentId=comment['comment_id'], pageToken=nextPageToken, textFormat='plainText')\n",
    "                response = request.execute()\n",
    "\n",
    "                replies += get_comments(response)\n",
    "                \n",
    "                # due to a potential bug in the YouTube API where the nextPageToken is the same every time...\n",
    "                # a break condition to break out of the while loop had to be implemented...\n",
    "                # otherwise it'll loop forever\n",
    "                if 'nextPageToken' in response.keys():\n",
    "                    if nextPageToken == response['nextPageToken']:\n",
    "                        break\n",
    "                \n",
    "    # return the replies as a DataFrame\n",
    "    return pd.DataFrame(replies)"
   ]
  },
  {
   "cell_type": "code",
   "execution_count": 6,
   "id": "2875b607-2512-427f-aa39-f1c071e29ffd",
   "metadata": {
    "tags": []
   },
   "outputs": [],
   "source": [
    "# insert the video ID from desired video to extract comments from (this would be the text that comes after 'https://www.youtube.com/watch?v=')\n",
    "videoId = 'N1E045hiKB8'\n",
    "\n",
    "# initiate the YouTube client\n",
    "youtube = build(serviceName='youtube', version='v3', developerKey=api_key)\n",
    "\n",
    "# create a request to get the parent comments, then save the response\n",
    "request = youtube.commentThreads().list(part='snippet', videoId=videoId, textFormat='plainText')\n",
    "response = request.execute()"
   ]
  },
  {
   "cell_type": "code",
   "execution_count": 7,
   "id": "e55ecc56-e5f2-4d8a-b7ab-2ba5f4b40c53",
   "metadata": {},
   "outputs": [],
   "source": [
    "# get all the comment threads and comment replies\n",
    "\n",
    "comments_df = comments_to_df(response)\n",
    "replies_df = replies_to_df(comments_df)"
   ]
  },
  {
   "cell_type": "code",
   "execution_count": 8,
   "id": "9674b807-8a1a-401b-b683-46419e7a1efa",
   "metadata": {
    "tags": []
   },
   "outputs": [],
   "source": [
    "# save the files as CSVs\n",
    "\n",
    "comments_df.to_csv('../data/comments.csv', index=None)\n",
    "replies_df.to_csv('../data/replies.csv', index=None)"
   ]
  }
 ],
 "metadata": {
  "kernelspec": {
   "display_name": "lhl_env",
   "language": "python",
   "name": "lhl_env"
  },
  "language_info": {
   "codemirror_mode": {
    "name": "ipython",
    "version": 3
   },
   "file_extension": ".py",
   "mimetype": "text/x-python",
   "name": "python",
   "nbconvert_exporter": "python",
   "pygments_lexer": "ipython3",
   "version": "3.9.18"
  }
 },
 "nbformat": 4,
 "nbformat_minor": 5
}
