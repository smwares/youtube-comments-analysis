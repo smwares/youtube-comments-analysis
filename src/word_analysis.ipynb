{
 "cells": [
  {
   "cell_type": "code",
   "execution_count": 1,
   "id": "9a98138c-b4f3-427a-aa94-176e60656d78",
   "metadata": {},
   "outputs": [],
   "source": [
    "import numpy as np\n",
    "import pandas as pd\n",
    "import matplotlib.pyplot as plt\n",
    "import seaborn as sns"
   ]
  },
  {
   "cell_type": "code",
   "execution_count": 2,
   "id": "68fb7e98-8913-479b-b3ad-4d3556d99917",
   "metadata": {
    "tags": []
   },
   "outputs": [],
   "source": [
    "comments_df = pd.read_csv('../data/comments.csv')\n",
    "replies_df = pd.read_csv('../data/replies.csv')"
   ]
  },
  {
   "cell_type": "code",
   "execution_count": 3,
   "id": "991c893f-6918-4039-9fc2-93681cf7cc51",
   "metadata": {
    "tags": []
   },
   "outputs": [],
   "source": [
    "all_comments_df = pd.concat([comments_df, replies_df], axis=0)"
   ]
  },
  {
   "cell_type": "code",
   "execution_count": 4,
   "id": "899ab958-3614-47f2-afaf-241ae815502b",
   "metadata": {
    "tags": []
   },
   "outputs": [
    {
     "name": "stdout",
     "output_type": "stream",
     "text": [
      "<class 'pandas.core.frame.DataFrame'>\n",
      "Index: 766 entries, 0 to 588\n",
      "Data columns (total 9 columns):\n",
      " #   Column          Non-Null Count  Dtype  \n",
      "---  ------          --------------  -----  \n",
      " 0   comment         766 non-null    object \n",
      " 1   comment_id      766 non-null    object \n",
      " 2   parent_comment  589 non-null    object \n",
      " 3   user            766 non-null    object \n",
      " 4   user_avatar     766 non-null    object \n",
      " 5   user_page       766 non-null    object \n",
      " 6   comment_time    766 non-null    object \n",
      " 7   likes           766 non-null    int64  \n",
      " 8   replies         177 non-null    float64\n",
      "dtypes: float64(1), int64(1), object(7)\n",
      "memory usage: 59.8+ KB\n"
     ]
    }
   ],
   "source": [
    "all_comments_df.info()"
   ]
  },
  {
   "cell_type": "code",
   "execution_count": 5,
   "id": "05aff34f-5638-4bf9-8a1b-c7e00bcd8629",
   "metadata": {
    "tags": []
   },
   "outputs": [],
   "source": [
    "# replace the NaN's in the reply column with 'n/a' for comments that are comment threads\n",
    "all_comments_df['parent_comment'] = all_comments_df['parent_comment'].fillna(value='n/a')"
   ]
  },
  {
   "cell_type": "code",
   "execution_count": 6,
   "id": "bc5af233-7a7c-459d-b9c6-1687cd5d48dc",
   "metadata": {},
   "outputs": [],
   "source": [
    "# replace the NaN's in the replies column with a value of 0 since these are replies to comments\n",
    "all_comments_df['replies'] = all_comments_df['replies'].fillna(value=0)"
   ]
  },
  {
   "cell_type": "code",
   "execution_count": 7,
   "id": "dc62cc32-a0c9-40b4-84a9-8796884fe519",
   "metadata": {
    "tags": []
   },
   "outputs": [],
   "source": [
    "# convert the comment_time column into a datetime format\n",
    "all_comments_df['comment_time'] = pd.to_datetime(all_comments_df['comment_time'])"
   ]
  },
  {
   "cell_type": "code",
   "execution_count": 8,
   "id": "c560a932-2299-4254-8150-cb41f9533a4c",
   "metadata": {
    "tags": []
   },
   "outputs": [],
   "source": [
    "# convert certain columns to save space and perform quicker\n",
    "all_comments_df = all_comments_df.astype({'likes': 'int32', 'replies': 'int32'})"
   ]
  },
  {
   "cell_type": "code",
   "execution_count": 9,
   "id": "88c5e7f4-3192-456e-b5f4-035cd67f1e42",
   "metadata": {
    "tags": []
   },
   "outputs": [
    {
     "data": {
      "text/plain": [
       "user\n",
       "@asingha94                        188\n",
       "@Vic67s                            38\n",
       "@rexk                              36\n",
       "@RyzenRTX89                        19\n",
       "@user-us6ji2sl3c                   13\n",
       "                                 ... \n",
       "@GodHimself-bp3xw                   1\n",
       "@adahepper2665                      1\n",
       "@barristeraiman                     1\n",
       "@FROMTHERIVERTOTHESEA-remember      1\n",
       "@theheelturn7242                    1\n",
       "Name: count, Length: 263, dtype: int64"
      ]
     },
     "execution_count": 9,
     "metadata": {},
     "output_type": "execute_result"
    }
   ],
   "source": [
    "all_comments_df['user'].value_counts()"
   ]
  },
  {
   "cell_type": "code",
   "execution_count": null,
   "id": "022f3c37-8aca-4aa6-ad84-0c13101b1cea",
   "metadata": {},
   "outputs": [],
   "source": []
  }
 ],
 "metadata": {
  "kernelspec": {
   "display_name": "lhl_env",
   "language": "python",
   "name": "lhl_env"
  },
  "language_info": {
   "codemirror_mode": {
    "name": "ipython",
    "version": 3
   },
   "file_extension": ".py",
   "mimetype": "text/x-python",
   "name": "python",
   "nbconvert_exporter": "python",
   "pygments_lexer": "ipython3",
   "version": "3.9.18"
  }
 },
 "nbformat": 4,
 "nbformat_minor": 5
}
